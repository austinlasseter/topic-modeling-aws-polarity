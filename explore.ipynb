{
 "cells": [
  {
   "cell_type": "code",
   "execution_count": 1,
   "metadata": {},
   "outputs": [],
   "source": [
    "from random import shuffle\n",
    "import multiprocessing\n",
    "from multiprocessing import Pool\n",
    "import csv\n",
    "import re\n",
    "import numpy as np\n",
    "import pandas as pd"
   ]
  },
  {
   "cell_type": "code",
   "execution_count": 3,
   "metadata": {},
   "outputs": [
    {
     "name": "stdout",
     "output_type": "stream",
     "text": [
      "arn:aws:iam::443501626368:role/service-role/AmazonSageMaker-ExecutionRole-20200806T142735\n"
     ]
    }
   ],
   "source": [
    "import sagemaker\n",
    "from sagemaker import get_execution_role\n",
    "import json\n",
    "import boto3\n",
    "\n",
    "sess = sagemaker.Session()\n",
    "\n",
    "role = get_execution_role()\n",
    "print(role) # This is the role that SageMaker would use to leverage AWS resources (S3, CloudWatch) on your behalf\n",
    "\n",
    "bucket = sess.default_bucket() # Replace with your own bucket name if needed\n",
    "\n",
    "prefix = 'review_topics' #Replace with the prefix under which you want to store the data if needed"
   ]
  },
  {
   "cell_type": "markdown",
   "metadata": {},
   "source": [
    "Final function"
   ]
  },
  {
   "cell_type": "code",
   "execution_count": null,
   "metadata": {},
   "outputs": [],
   "source": [
    "# define a simple tokenizer (NLTK won't be available to us later on, in our Lambda function)\n",
    "\n",
    "def simple_tokenizer(input_text):\n",
    "    REPLACE_NO_SPACE = re.compile(\"(\\.)|(\\;)|(\\:)|(\\!)|(\\')|(\\?)|(\\,)|(\\\")|(\\()|(\\))|(\\[)|(\\])|(=)|(`)\")\n",
    "    REPLACE_WITH_SPACE = re.compile(\"(<br\\s*/><br\\s*/>)|(\\-)|(\\/)|(\\n)|(\\t)\")\n",
    "    tokens = REPLACE_NO_SPACE.sub(\"\", input_text.lower())\n",
    "    tokens = REPLACE_WITH_SPACE.sub(\" \", tokens) # note that blazing text expects space-separated tokens\n",
    "    return tokens"
   ]
  },
  {
   "cell_type": "code",
   "execution_count": 42,
   "metadata": {},
   "outputs": [],
   "source": [
    "# read and process the dataset\n",
    "def preprocesser(input_file, output_file):\n",
    "    filepath=Path.joinpath(Path.cwd().parent, 'data', 'amazon_review_polarity_csv', input_file)\n",
    "    df = pd.read_csv(filepath, names=[\"Label\", \"Title\", \"Review\"])\n",
    "    # class 0 is the negative and class 1 is the positive\n",
    "    df['Label']=train_df['Label']-1\n",
    "    # drop Title, focus on review itself\n",
    "    df=df.drop('Title', axis=1)\n",
    "    # Shuffle reviews and corresponding labels within training and test sets\n",
    "    df = df.sample(frac = 1)\n",
    "    # apply the simple tokenizer\n",
    "    df['Review']=df['Review'].apply(simple_tokenizer)\n",
    "    # Prefix the index-ed label with __label__\n",
    "    df['Label']=df['Label'].apply(lambda row: \"__label__\" +  str(row) )\n",
    "    # convert the transformed dataframe into a list\n",
    "    transformed_rows = np.array(df).tolist()\n",
    "    # write to csv file\n",
    "    with open(output_file, 'w') as csvoutfile:\n",
    "        csv_writer = csv.writer(output_file, delimiter=' ', lineterminator='\\n') # notice the delimiter.\n",
    "        csv_writer.writerows(transformed_rows)"
   ]
  },
  {
   "cell_type": "code",
   "execution_count": null,
   "metadata": {},
   "outputs": [],
   "source": [
    "%%time\n",
    "\n",
    "# Preparing the training dataset\n",
    "preprocess('train.csv', 'polarity.train')"
   ]
  },
  {
   "cell_type": "code",
   "execution_count": null,
   "metadata": {},
   "outputs": [],
   "source": [
    "%%time\n",
    "\n",
    "# Preparing the validation dataset        \n",
    "preprocess('test.csv', 'polarity.validation')"
   ]
  },
  {
   "cell_type": "markdown",
   "metadata": {},
   "source": [
    "#### Preparing and Processing the training data"
   ]
  },
  {
   "cell_type": "code",
   "execution_count": 41,
   "metadata": {},
   "outputs": [
    {
     "name": "stdout",
     "output_type": "stream",
     "text": [
      "/home/ec2-user/SageMaker\n",
      "/home/ec2-user/SageMaker/data/amazon_review_polarity_csv/train.csv\n"
     ]
    }
   ],
   "source": [
    "from pathlib import Path\n",
    "filename='train.csv'\n",
    "print(Path.cwd().parent)\n",
    "print(Path.joinpath(Path.cwd().parent, 'data', 'amazon_review_polarity_csv', filename))"
   ]
  },
  {
   "cell_type": "code",
   "execution_count": 5,
   "metadata": {},
   "outputs": [
    {
     "data": {
      "text/plain": [
       "1    1800000\n",
       "0    1800000\n",
       "Name: Label, dtype: int64"
      ]
     },
     "execution_count": 5,
     "metadata": {},
     "output_type": "execute_result"
    }
   ],
   "source": [
    "# class 0 is the negative and class 1 is the positive\n",
    "train_df['Label']=train_df['Label']-1\n",
    "train_df['Label'].value_counts()"
   ]
  },
  {
   "cell_type": "code",
   "execution_count": 6,
   "metadata": {},
   "outputs": [
    {
     "data": {
      "text/html": [
       "<div>\n",
       "<style scoped>\n",
       "    .dataframe tbody tr th:only-of-type {\n",
       "        vertical-align: middle;\n",
       "    }\n",
       "\n",
       "    .dataframe tbody tr th {\n",
       "        vertical-align: top;\n",
       "    }\n",
       "\n",
       "    .dataframe thead th {\n",
       "        text-align: right;\n",
       "    }\n",
       "</style>\n",
       "<table border=\"1\" class=\"dataframe\">\n",
       "  <thead>\n",
       "    <tr style=\"text-align: right;\">\n",
       "      <th></th>\n",
       "      <th>Label</th>\n",
       "      <th>Review</th>\n",
       "    </tr>\n",
       "  </thead>\n",
       "  <tbody>\n",
       "    <tr>\n",
       "      <th>0</th>\n",
       "      <td>1</td>\n",
       "      <td>This sound track was beautiful! It paints the ...</td>\n",
       "    </tr>\n",
       "    <tr>\n",
       "      <th>1</th>\n",
       "      <td>1</td>\n",
       "      <td>I'm reading a lot of reviews saying that this ...</td>\n",
       "    </tr>\n",
       "    <tr>\n",
       "      <th>2</th>\n",
       "      <td>1</td>\n",
       "      <td>This soundtrack is my favorite music of all ti...</td>\n",
       "    </tr>\n",
       "    <tr>\n",
       "      <th>3</th>\n",
       "      <td>1</td>\n",
       "      <td>I truly like this soundtrack and I enjoy video...</td>\n",
       "    </tr>\n",
       "    <tr>\n",
       "      <th>4</th>\n",
       "      <td>1</td>\n",
       "      <td>If you've played the game, you know how divine...</td>\n",
       "    </tr>\n",
       "  </tbody>\n",
       "</table>\n",
       "</div>"
      ],
      "text/plain": [
       "   Label                                             Review\n",
       "0      1  This sound track was beautiful! It paints the ...\n",
       "1      1  I'm reading a lot of reviews saying that this ...\n",
       "2      1  This soundtrack is my favorite music of all ti...\n",
       "3      1  I truly like this soundtrack and I enjoy video...\n",
       "4      1  If you've played the game, you know how divine..."
      ]
     },
     "execution_count": 6,
     "metadata": {},
     "output_type": "execute_result"
    }
   ],
   "source": [
    "# drop Title, focus on review itself\n",
    "train_df=train_df.drop('Title', axis=1)\n",
    "train_df.head()"
   ]
  },
  {
   "cell_type": "code",
   "execution_count": 32,
   "metadata": {},
   "outputs": [
    {
     "data": {
      "text/html": [
       "<div>\n",
       "<style scoped>\n",
       "    .dataframe tbody tr th:only-of-type {\n",
       "        vertical-align: middle;\n",
       "    }\n",
       "\n",
       "    .dataframe tbody tr th {\n",
       "        vertical-align: top;\n",
       "    }\n",
       "\n",
       "    .dataframe thead th {\n",
       "        text-align: right;\n",
       "    }\n",
       "</style>\n",
       "<table border=\"1\" class=\"dataframe\">\n",
       "  <thead>\n",
       "    <tr style=\"text-align: right;\">\n",
       "      <th></th>\n",
       "      <th>Label</th>\n",
       "      <th>Review</th>\n",
       "    </tr>\n",
       "  </thead>\n",
       "  <tbody>\n",
       "    <tr>\n",
       "      <th>1136550</th>\n",
       "      <td>0</td>\n",
       "      <td>I have had the old style littermaids for years...</td>\n",
       "    </tr>\n",
       "    <tr>\n",
       "      <th>3399067</th>\n",
       "      <td>0</td>\n",
       "      <td>I assumed this dance pad would be decent due t...</td>\n",
       "    </tr>\n",
       "    <tr>\n",
       "      <th>2061393</th>\n",
       "      <td>1</td>\n",
       "      <td>This is a great book if you want to pass the S...</td>\n",
       "    </tr>\n",
       "    <tr>\n",
       "      <th>544960</th>\n",
       "      <td>0</td>\n",
       "      <td>I purchased this air pump seeking a pump that ...</td>\n",
       "    </tr>\n",
       "    <tr>\n",
       "      <th>3199043</th>\n",
       "      <td>0</td>\n",
       "      <td>Right out of the box, this product felt flimsy...</td>\n",
       "    </tr>\n",
       "    <tr>\n",
       "      <th>...</th>\n",
       "      <td>...</td>\n",
       "      <td>...</td>\n",
       "    </tr>\n",
       "    <tr>\n",
       "      <th>2361291</th>\n",
       "      <td>0</td>\n",
       "      <td>This coffee was very stale, it had no expirati...</td>\n",
       "    </tr>\n",
       "    <tr>\n",
       "      <th>3437035</th>\n",
       "      <td>1</td>\n",
       "      <td>I purchased this for a friend and i was very p...</td>\n",
       "    </tr>\n",
       "    <tr>\n",
       "      <th>161670</th>\n",
       "      <td>1</td>\n",
       "      <td>I believe that the Dream Dance collection is c...</td>\n",
       "    </tr>\n",
       "    <tr>\n",
       "      <th>574524</th>\n",
       "      <td>0</td>\n",
       "      <td>What a bore! If you really want a magical read...</td>\n",
       "    </tr>\n",
       "    <tr>\n",
       "      <th>2868926</th>\n",
       "      <td>0</td>\n",
       "      <td>Very disappointing recordings from the 70's. S...</td>\n",
       "    </tr>\n",
       "  </tbody>\n",
       "</table>\n",
       "<p>3600000 rows × 2 columns</p>\n",
       "</div>"
      ],
      "text/plain": [
       "         Label                                             Review\n",
       "1136550      0  I have had the old style littermaids for years...\n",
       "3399067      0  I assumed this dance pad would be decent due t...\n",
       "2061393      1  This is a great book if you want to pass the S...\n",
       "544960       0  I purchased this air pump seeking a pump that ...\n",
       "3199043      0  Right out of the box, this product felt flimsy...\n",
       "...        ...                                                ...\n",
       "2361291      0  This coffee was very stale, it had no expirati...\n",
       "3437035      1  I purchased this for a friend and i was very p...\n",
       "161670       1  I believe that the Dream Dance collection is c...\n",
       "574524       0  What a bore! If you really want a magical read...\n",
       "2868926      0  Very disappointing recordings from the 70's. S...\n",
       "\n",
       "[3600000 rows x 2 columns]"
      ]
     },
     "execution_count": 32,
     "metadata": {},
     "output_type": "execute_result"
    }
   ],
   "source": [
    "#Shuffle reviews and corresponding labels within training and test sets\n",
    "train_df = train_df.sample(frac = 1)"
   ]
  },
  {
   "cell_type": "code",
   "execution_count": 24,
   "metadata": {},
   "outputs": [],
   "source": [
    "# define a simple tokenizer (NLTK won't be available to us later on, in our Lambda function)\n",
    "\n",
    "def simple_tokenizer(input_text):\n",
    "    REPLACE_NO_SPACE = re.compile(\"(\\.)|(\\;)|(\\:)|(\\!)|(\\')|(\\?)|(\\,)|(\\\")|(\\()|(\\))|(\\[)|(\\])|(=)|(`)\")\n",
    "    REPLACE_WITH_SPACE = re.compile(\"(<br\\s*/><br\\s*/>)|(\\-)|(\\/)|(\\n)|(\\t)\")\n",
    "    tokens = REPLACE_NO_SPACE.sub(\"\", input_text.lower())\n",
    "    tokens = REPLACE_WITH_SPACE.sub(\" \", tokens) # note that blazing text expects space-separated tokens\n",
    "    return tokens"
   ]
  },
  {
   "cell_type": "code",
   "execution_count": 25,
   "metadata": {},
   "outputs": [],
   "source": [
    "# apply the simple tokenizer\n",
    "train['Review']=train['Review'].apply(simple_tokenizer)"
   ]
  },
  {
   "cell_type": "code",
   "execution_count": null,
   "metadata": {},
   "outputs": [],
   "source": [
    "# Prefix the index-ed label with __label__\n",
    "train['Label']=train['Label'].apply(lambda row: \"__label__\" +  str(row) )"
   ]
  },
  {
   "cell_type": "code",
   "execution_count": 26,
   "metadata": {},
   "outputs": [
    {
     "data": {
      "text/html": [
       "<div>\n",
       "<style scoped>\n",
       "    .dataframe tbody tr th:only-of-type {\n",
       "        vertical-align: middle;\n",
       "    }\n",
       "\n",
       "    .dataframe tbody tr th {\n",
       "        vertical-align: top;\n",
       "    }\n",
       "\n",
       "    .dataframe thead th {\n",
       "        text-align: right;\n",
       "    }\n",
       "</style>\n",
       "<table border=\"1\" class=\"dataframe\">\n",
       "  <thead>\n",
       "    <tr style=\"text-align: right;\">\n",
       "      <th></th>\n",
       "      <th>Label</th>\n",
       "      <th>Review</th>\n",
       "    </tr>\n",
       "  </thead>\n",
       "  <tbody>\n",
       "    <tr>\n",
       "      <th>871811</th>\n",
       "      <td>__label__0</td>\n",
       "      <td>i cant believe the number of people tripping a...</td>\n",
       "    </tr>\n",
       "    <tr>\n",
       "      <th>1147345</th>\n",
       "      <td>__label__1</td>\n",
       "      <td>i bought this book to make ice cream with a ki...</td>\n",
       "    </tr>\n",
       "    <tr>\n",
       "      <th>1527049</th>\n",
       "      <td>__label__0</td>\n",
       "      <td>worse u2 album ive ever heard there is nothing...</td>\n",
       "    </tr>\n",
       "    <tr>\n",
       "      <th>1253689</th>\n",
       "      <td>__label__0</td>\n",
       "      <td>i have no idea what this man is talking about ...</td>\n",
       "    </tr>\n",
       "    <tr>\n",
       "      <th>2085461</th>\n",
       "      <td>__label__1</td>\n",
       "      <td>i live much of the year in the great basins an...</td>\n",
       "    </tr>\n",
       "  </tbody>\n",
       "</table>\n",
       "</div>"
      ],
      "text/plain": [
       "              Label                                             Review\n",
       "871811   __label__0  i cant believe the number of people tripping a...\n",
       "1147345  __label__1  i bought this book to make ice cream with a ki...\n",
       "1527049  __label__0  worse u2 album ive ever heard there is nothing...\n",
       "1253689  __label__0  i have no idea what this man is talking about ...\n",
       "2085461  __label__1  i live much of the year in the great basins an..."
      ]
     },
     "execution_count": 26,
     "metadata": {},
     "output_type": "execute_result"
    }
   ],
   "source": [
    "train.head()"
   ]
  },
  {
   "cell_type": "code",
   "execution_count": 33,
   "metadata": {},
   "outputs": [],
   "source": [
    "# convert the transformed dataframe into a list\n",
    "transformed_rows = np.array(train_df).tolist()"
   ]
  },
  {
   "cell_type": "code",
   "execution_count": 36,
   "metadata": {},
   "outputs": [],
   "source": [
    "# blazing text requires space-separated word tokens.\n",
    "output_file = 'polarity.train'\n",
    "with open(output_file, 'w') as csvoutfile:\n",
    "    csv_writer = csv.writer(csvoutfile, delimiter=' ', lineterminator='\\n') # notice the delimiter.\n",
    "    csv_writer.writerows(transformed_rows)"
   ]
  }
 ],
 "metadata": {
  "kernelspec": {
   "display_name": "conda_python3",
   "language": "python",
   "name": "conda_python3"
  },
  "language_info": {
   "codemirror_mode": {
    "name": "ipython",
    "version": 3
   },
   "file_extension": ".py",
   "mimetype": "text/x-python",
   "name": "python",
   "nbconvert_exporter": "python",
   "pygments_lexer": "ipython3",
   "version": "3.6.10"
  }
 },
 "nbformat": 4,
 "nbformat_minor": 4
}
